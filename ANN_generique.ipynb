{
  "cells": [
    {
      "cell_type": "markdown",
      "metadata": {
        "id": "JlasbskP8liC"
      },
      "source": [
        "# **Artificial Neural Network**"
      ]
    },
    {
      "cell_type": "markdown",
      "metadata": {
        "id": "AhbuNniU-Hqr"
      },
      "source": [
        "## Prérequis : "
      ]
    },
    {
      "cell_type": "code",
      "execution_count": null,
      "metadata": {
        "colab": {
          "base_uri": "https://localhost:8080/"
        },
        "id": "DzX9WAgJ-O8t",
        "outputId": "20c5688d-14d1-4917-b07f-ced69ee7e7be"
      },
      "outputs": [
        {
          "name": "stdout",
          "output_type": "stream",
          "text": [
            "2.8.0\n"
          ]
        }
      ],
      "source": [
        "# TensorFlow \n",
        "import tensorflow as tf\n",
        "\n",
        "# Helper libraries\n",
        "import numpy as np\n",
        "import pandas as pd\n",
        "import matplotlib.pyplot as plt\n",
        "\n",
        "print(tf.__version__)"
      ]
    },
    {
      "cell_type": "markdown",
      "metadata": {
        "id": "jjVYt-PtAc5g"
      },
      "source": [
        "## Chargement et pré-traitement des données :"
      ]
    },
    {
      "cell_type": "code",
      "execution_count": null,
      "metadata": {
        "id": "hTHfk6ljArDC"
      },
      "outputs": [],
      "source": [
        "### à remplir selon les besoins"
      ]
    },
    {
      "cell_type": "markdown",
      "metadata": {
        "id": "yWMcSadm8s98"
      },
      "source": [
        "## Création du modèle : "
      ]
    },
    {
      "cell_type": "code",
      "execution_count": null,
      "metadata": {
        "id": "XGQ_nX_NHo8V"
      },
      "outputs": [],
      "source": [
        "### Importer un modèle pré-défini :\n",
        "model_path = \"'saved_model/my_model'\"\n",
        "pre_made_model = tf.keras.models.load_model(model_path)\n",
        "\n",
        "### vérifier son architecture\n",
        "pre_made_model.summary()"
      ]
    },
    {
      "cell_type": "code",
      "execution_count": null,
      "metadata": {
        "id": "-aiskapZ_O96"
      },
      "outputs": [],
      "source": [
        "### Initialiser un modèle :\n",
        "ann = tf.keras.models.Sequential()"
      ]
    },
    {
      "cell_type": "code",
      "execution_count": 4,
      "metadata": {
        "id": "Bv2UBddv_kPg"
      },
      "outputs": [],
      "source": [
        "### Ajouter les couches :\n",
        "\n",
        "def ajouter_couche_cachee (model,units,activation) :\n",
        "  model.add(tf.keras.layers.Dense(units=units, activation=activation))\n",
        "  return model\n",
        "\n",
        "def ajouter_couche_dropout (model, dropout_rate) :\n",
        "  model.add(tf.keras.layers.Dropout(dropout_rate))\n",
        "  return model\n",
        "\n",
        "def ajouter_couche_flatten (model,x):\n",
        "  model.add(tf.keras.layers.Flatten(input_shape=(x)))\n",
        "  return model\n",
        "\n",
        "def ajouter_couche_sortie (model,nbr_of_labels) :\n",
        "  model.add(tf.keras.layers.Dense(units=nbr_of_labels))\n",
        "  return model"
      ]
    },
    {
      "cell_type": "code",
      "execution_count": 3,
      "metadata": {
        "id": "fauOg5DyDb08"
      },
      "outputs": [],
      "source": [
        "### Compiler le modèle : \n",
        "\n",
        "def compiler (model, optimizer, loss, metrics) :\n",
        "  model.compile(optimizer=optimizer,\n",
        "                loss=loss,\n",
        "                metrics=metrics)\n",
        "  return model"
      ]
    },
    {
      "cell_type": "code",
      "execution_count": 2,
      "metadata": {
        "id": "tclPgligEOBI"
      },
      "outputs": [],
      "source": [
        "### Entrainer le modèle : \n",
        "\n",
        "def entrainer (model, X_train, y_train, epochs) :\n",
        "  model.fit(X_train, y_train, epochs=epochs)\n",
        "  return model"
      ]
    },
    {
      "cell_type": "markdown",
      "metadata": {
        "id": "l9xfXrwjFRtc"
      },
      "source": [
        "## Evalutation du modèle : "
      ]
    },
    {
      "cell_type": "code",
      "execution_count": 1,
      "metadata": {
        "id": "M7cQEPojFU3D"
      },
      "outputs": [],
      "source": [
        "def evaluer (model, X_test, y_test, verbose) :\n",
        "  test_loss, test_acc = model.evaluate(X_test,  y_test, verbose=verbose)\n",
        "  print(\"\\nPrécision du modèle sur les données du test:\", test_acc)"
      ]
    },
    {
      "cell_type": "markdown",
      "metadata": {
        "id": "W2FCscFGF6KN"
      },
      "source": [
        "## Sauvegarde du modèle : "
      ]
    },
    {
      "cell_type": "code",
      "execution_count": null,
      "metadata": {
        "id": "VlHblKPFF9dI"
      },
      "outputs": [],
      "source": [
        "def sauvegarder (model,HDF5) :\n",
        "  model.save('saved_model/my_model')\n",
        "  # Enregister sous format HDF5.\n",
        "  # Il suffit d'ajouter l'extension '.h5' au nom du fichier\n",
        "  if HDF5 == True :\n",
        "    model.save('my_model.h5')"
      ]
    }
  ],
  "metadata": {
    "colab": {
      "collapsed_sections": [],
      "name": "ANN_generique.ipynb",
      "provenance": []
    },
    "kernelspec": {
      "display_name": "Python 3",
      "name": "python3"
    },
    "language_info": {
      "codemirror_mode": {
        "name": "ipython",
        "version": 3
      },
      "file_extension": ".py",
      "mimetype": "text/x-python",
      "name": "python",
      "nbconvert_exporter": "python",
      "pygments_lexer": "ipython3",
      "version": "3.8.5"
    }
  },
  "nbformat": 4,
  "nbformat_minor": 0
}
