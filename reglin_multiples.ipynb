{
 "cells": [
  {
   "cell_type": "code",
   "execution_count": 1,
   "metadata": {},
   "outputs": [
    {
     "name": "stdout",
     "output_type": "stream",
     "text": [
      "8\r\n"
     ]
    }
   ],
   "source": [
    "!nproc"
   ]
  },
  {
   "cell_type": "markdown",
   "metadata": {
    "id": "WOe9TIaDggSi"
   },
   "source": [
    "# Regression LinÃ©aire Multiple\n",
    "\n"
   ]
  },
  {
   "cell_type": "markdown",
   "metadata": {
    "id": "cfYmmqUxggUT"
   },
   "source": [
    "####\n",
    "# Première Etape: Importer les librairies\n",
    "####"
   ]
  },
  {
   "cell_type": "code",
   "execution_count": 2,
   "metadata": {
    "id": "nf8hnJgImcht"
   },
   "outputs": [],
   "source": [
    "import numpy as np\n",
    "import matplotlib.pyplot as plt\n",
    "import pandas as pd\n",
    "import seaborn as sns"
   ]
  },
  {
   "cell_type": "markdown",
   "metadata": {
    "id": "g2koRhtJpu5V"
   },
   "source": [
    "####\n",
    "# Deuxième Etape: Importer et afficher le contenu et la structure le la dataset\n",
    "####"
   ]
  },
  {
   "cell_type": "code",
   "execution_count": 4,
   "metadata": {
    "colab": {
     "base_uri": "https://localhost:8080/",
     "height": 491
    },
    "id": "lYINaxJRp1Il",
    "outputId": "0db17294-619f-4c4d-e183-2fac4c31fb62"
   },
   "outputs": [
    {
     "name": "stdout",
     "output_type": "stream",
     "text": [
      "<class 'pandas.core.frame.DataFrame'>\n",
      "RangeIndex: 10 entries, 0 to 9\n",
      "Data columns (total 4 columns):\n",
      " #   Column              Non-Null Count  Dtype  \n",
      "---  ------              --------------  -----  \n",
      " 0   Distance_Parcourue  10 non-null     int64  \n",
      " 1   Nb_livraisons       10 non-null     int64  \n",
      " 2   PrixCarburant       10 non-null     float64\n",
      " 3   Duree_trajet        10 non-null     float64\n",
      "dtypes: float64(2), int64(2)\n",
      "memory usage: 448.0 bytes\n"
     ]
    },
    {
     "data": {
      "text/html": [
       "<div>\n",
       "<style scoped>\n",
       "    .dataframe tbody tr th:only-of-type {\n",
       "        vertical-align: middle;\n",
       "    }\n",
       "\n",
       "    .dataframe tbody tr th {\n",
       "        vertical-align: top;\n",
       "    }\n",
       "\n",
       "    .dataframe thead th {\n",
       "        text-align: right;\n",
       "    }\n",
       "</style>\n",
       "<table border=\"1\" class=\"dataframe\">\n",
       "  <thead>\n",
       "    <tr style=\"text-align: right;\">\n",
       "      <th></th>\n",
       "      <th>Distance_Parcourue</th>\n",
       "      <th>Nb_livraisons</th>\n",
       "      <th>PrixCarburant</th>\n",
       "      <th>Duree_trajet</th>\n",
       "    </tr>\n",
       "  </thead>\n",
       "  <tbody>\n",
       "    <tr>\n",
       "      <th>count</th>\n",
       "      <td>10.000000</td>\n",
       "      <td>10.000000</td>\n",
       "      <td>10.00000</td>\n",
       "      <td>10.000000</td>\n",
       "    </tr>\n",
       "    <tr>\n",
       "      <th>mean</th>\n",
       "      <td>79.600000</td>\n",
       "      <td>3.100000</td>\n",
       "      <td>3.51700</td>\n",
       "      <td>6.390000</td>\n",
       "    </tr>\n",
       "    <tr>\n",
       "      <th>std</th>\n",
       "      <td>19.995555</td>\n",
       "      <td>1.595131</td>\n",
       "      <td>0.28562</td>\n",
       "      <td>0.867243</td>\n",
       "    </tr>\n",
       "    <tr>\n",
       "      <th>min</th>\n",
       "      <td>44.000000</td>\n",
       "      <td>1.000000</td>\n",
       "      <td>3.03000</td>\n",
       "      <td>4.800000</td>\n",
       "    </tr>\n",
       "    <tr>\n",
       "      <th>25%</th>\n",
       "      <td>68.500000</td>\n",
       "      <td>2.250000</td>\n",
       "      <td>3.31500</td>\n",
       "      <td>5.800000</td>\n",
       "    </tr>\n",
       "    <tr>\n",
       "      <th>50%</th>\n",
       "      <td>77.500000</td>\n",
       "      <td>3.000000</td>\n",
       "      <td>3.55500</td>\n",
       "      <td>6.500000</td>\n",
       "    </tr>\n",
       "    <tr>\n",
       "      <th>75%</th>\n",
       "      <td>86.750000</td>\n",
       "      <td>3.750000</td>\n",
       "      <td>3.72750</td>\n",
       "      <td>7.000000</td>\n",
       "    </tr>\n",
       "    <tr>\n",
       "      <th>max</th>\n",
       "      <td>111.000000</td>\n",
       "      <td>6.000000</td>\n",
       "      <td>3.89000</td>\n",
       "      <td>7.400000</td>\n",
       "    </tr>\n",
       "  </tbody>\n",
       "</table>\n",
       "</div>"
      ],
      "text/plain": [
       "       Distance_Parcourue  Nb_livraisons  PrixCarburant  Duree_trajet\n",
       "count           10.000000      10.000000       10.00000     10.000000\n",
       "mean            79.600000       3.100000        3.51700      6.390000\n",
       "std             19.995555       1.595131        0.28562      0.867243\n",
       "min             44.000000       1.000000        3.03000      4.800000\n",
       "25%             68.500000       2.250000        3.31500      5.800000\n",
       "50%             77.500000       3.000000        3.55500      6.500000\n",
       "75%             86.750000       3.750000        3.72750      7.000000\n",
       "max            111.000000       6.000000        3.89000      7.400000"
      ]
     },
     "execution_count": 4,
     "metadata": {},
     "output_type": "execute_result"
    }
   ],
   "source": [
    "# Charger la base\n",
    "livraison = pd.read_csv('Livraison.csv')\n",
    "\n",
    "livraison.shape\n",
    "livraison.dtypes\n",
    "livraison.head()\n",
    "livraison.info()\n",
    "livraison.isnull().any()\n",
    "livraison.columns\n",
    "livraison.columns.values\n",
    "livraison.describe()"
   ]
  },
  {
   "cell_type": "markdown",
   "metadata": {
    "id": "U6oLLQ5GqDU4"
   },
   "source": [
    "##########Création les matrices de variables indépendantes et dépendante ############\n",
    "\n",
    "### Première méthode ####"
   ]
  },
  {
   "cell_type": "code",
   "execution_count": 5,
   "metadata": {
    "colab": {
     "base_uri": "https://localhost:8080/"
    },
    "id": "eI-DGz1LqR7O",
    "outputId": "a5909ba0-fcb0-4dee-f4b3-b12cac08c06f"
   },
   "outputs": [
    {
     "data": {
      "text/plain": [
       "0    7.0\n",
       "1    5.4\n",
       "2    6.6\n",
       "3    7.4\n",
       "4    4.8\n",
       "5    6.4\n",
       "6    7.0\n",
       "7    5.6\n",
       "8    7.3\n",
       "9    6.4\n",
       "Name: Duree_trajet, dtype: float64"
      ]
     },
     "execution_count": 5,
     "metadata": {},
     "output_type": "execute_result"
    }
   ],
   "source": [
    "X = livraison[['Distance_Parcourue', 'Nb_livraisons', 'PrixCarburant']]\n",
    "##ou\n",
    "#X = livraison.drop(['Duree_trajet'], axis = 1)\n",
    "y = livraison['Duree_trajet']\n",
    "y"
   ]
  },
  {
   "cell_type": "code",
   "execution_count": null,
   "metadata": {
    "id": "aeBlmtAzGnc8"
   },
   "outputs": [],
   "source": []
  },
  {
   "cell_type": "markdown",
   "metadata": {
    "id": "leuDS-akqUBG"
   },
   "source": [
    "### Deuxième méthode ####"
   ]
  },
  {
   "cell_type": "code",
   "execution_count": null,
   "metadata": {
    "colab": {
     "base_uri": "https://localhost:8080/"
    },
    "id": "tPJ-eRYZqbfb",
    "outputId": "b191db50-f764-4c30-8989-6c9f79e3e581"
   },
   "outputs": [
    {
     "data": {
      "text/plain": [
       "(10,)"
      ]
     },
     "execution_count": 6,
     "metadata": {},
     "output_type": "execute_result"
    }
   ],
   "source": [
    "#X = livraison.iloc[:,:-1].values\n",
    "#y = livraison.iloc[:,-1].values\n",
    "#X.shape\n",
    "#y.shape"
   ]
  },
  {
   "cell_type": "markdown",
   "metadata": {
    "id": "iGX1r7eGqgG4"
   },
   "source": [
    "####Troisième méthode ####"
   ]
  },
  {
   "cell_type": "code",
   "execution_count": null,
   "metadata": {
    "id": "zGMY4tvQqlY9"
   },
   "outputs": [],
   "source": [
    "#data= livraison.as_matrix()\n",
    "\n",
    "#X = data[:,0:3]\n",
    "\n",
    "## ou\n",
    "# X = np.delete(data,3,1)\n",
    "#Y = data[:,3]"
   ]
  },
  {
   "cell_type": "markdown",
   "metadata": {
    "id": "PPj-6IkN2jeg"
   },
   "source": [
    "####\n",
    "#Troisième Etape: visualiser les relations entres les variables\n",
    "####"
   ]
  },
  {
   "cell_type": "code",
   "execution_count": 5,
   "metadata": {
    "id": "T6tyTmEC2oTu"
   },
   "outputs": [
    {
     "data": {
      "text/plain": [
       "<seaborn.axisgrid.JointGrid at 0x7f8eb2e9afa0>"
      ]
     },
     "execution_count": 5,
     "metadata": {},
     "output_type": "execute_result"
    },
    {
     "data": {
      "image/png": "[encoded data removed]",
      "text/plain": [
       "<Figure size 600x600 with 3 Axes>"
      ]
     },
     "metadata": {},
     "output_type": "display_data"
    }
   ],
   "source": [
    "# VDs vs VI\n",
    "sns.jointplot(x='Distance_Parcourue', y = 'Duree_trajet', data= livraison, color ='blue')"
   ]
  },
  {
   "cell_type": "code",
   "execution_count": null,
   "metadata": {
    "id": "aJhxtOZzGpdN"
   },
   "outputs": [],
   "source": [
    "sns.jointplot(x='Nb_livraisons', y = 'Duree_trajet', data= livraison, color ='blue')"
   ]
  },
  {
   "cell_type": "code",
   "execution_count": null,
   "metadata": {
    "id": "s_oLGXw5Gvry"
   },
   "outputs": [],
   "source": [
    "sns.jointplot(x='PrixCarburant', y = 'Duree_trajet', data= livraison, color ='blue')"
   ]
  },
  {
   "cell_type": "code",
   "execution_count": null,
   "metadata": {
    "id": "WXujGSh6Gpmq"
   },
   "outputs": [],
   "source": [
    "# VDs vs VDs\n",
    "sns.jointplot(x='Distance_Parcourue', y = 'Nb_livraisons', data= livraison, color ='blue')\n"
   ]
  },
  {
   "cell_type": "code",
   "execution_count": null,
   "metadata": {
    "id": "2UNM4BSGG1rT"
   },
   "outputs": [],
   "source": [
    "sns.jointplot(x='Distance_Parcourue', y = 'PrixCarburant', data= livraison, color ='blue')"
   ]
  },
  {
   "cell_type": "code",
   "execution_count": null,
   "metadata": {
    "id": "UY3n8CXBG7W8"
   },
   "outputs": [],
   "source": [
    "sns.jointplot(x='Nb_livraisons', y = 'PrixCarburant', data= livraison, color ='blue')"
   ]
  },
  {
   "cell_type": "code",
   "execution_count": null,
   "metadata": {
    "id": "mPObseEMG1x8"
   },
   "outputs": [],
   "source": [
    "sns.pairplot(livraison)"
   ]
  },
  {
   "cell_type": "markdown",
   "metadata": {
    "id": "nswHxlqK2yHb"
   },
   "source": [
    "Calcul de correlation"
   ]
  },
  {
   "cell_type": "code",
   "execution_count": 6,
   "metadata": {
    "id": "SgQc0WMA21_o"
   },
   "outputs": [
    {
     "name": "stdout",
     "output_type": "stream",
     "text": [
      "corr:   0.928178500887476 pval:   0.00010667565429896736\n"
     ]
    }
   ],
   "source": [
    "from scipy.stats import pearsonr, spearmanr\n",
    "\n",
    "corr, pval = pearsonr(livraison['Distance_Parcourue'] , y)\n",
    "\n",
    "print(\"corr:  \",corr, \"pval:  \",pval) "
   ]
  },
  {
   "cell_type": "code",
   "execution_count": 7,
   "metadata": {
    "id": "10Bdzem7JQXX"
   },
   "outputs": [
    {
     "name": "stdout",
     "output_type": "stream",
     "text": [
      "Distance_Parcourue    Distance_Parcourue    1.0    0.0\n",
      "Distance_Parcourue    Nb_livraisons    0.9558982066200347    1.5690314407660772e-05\n",
      "Distance_Parcourue    PrixCarburant    0.35579623354708517    0.3129640590817896\n",
      "Distance_Parcourue    Duree_trajet    0.928178500887476    0.00010667565429896736\n",
      "Nb_livraisons    Distance_Parcourue    0.9558982066200347    1.5690314407660772e-05\n",
      "Nb_livraisons    Nb_livraisons    1.0    0.0\n",
      "Nb_livraisons    PrixCarburant    0.4982421647401633    0.142741207670319\n",
      "Nb_livraisons    Duree_trajet    0.9164433964470268    0.00019260878342963056\n",
      "PrixCarburant    Distance_Parcourue    0.35579623354708517    0.3129640590817896\n",
      "PrixCarburant    Nb_livraisons    0.4982421647401633    0.142741207670319\n",
      "PrixCarburant    PrixCarburant    1.0    0.0\n",
      "PrixCarburant    Duree_trajet    0.2672115310193847    0.4554534126850813\n",
      "Duree_trajet    Distance_Parcourue    0.928178500887476    0.00010667565429896736\n",
      "Duree_trajet    Nb_livraisons    0.9164433964470268    0.00019260878342963056\n",
      "Duree_trajet    PrixCarburant    0.2672115310193847    0.4554534126850813\n",
      "Duree_trajet    Duree_trajet    1.0    0.0\n"
     ]
    }
   ],
   "source": [
    "for var in livraison.columns.values:\n",
    "    for var1 in livraison.columns.values:\n",
    "        corr, pval = pearsonr(livraison[var] , livraison[var1])\n",
    "        print(var,\"  \",var1, \"  \",corr, \"  \",pval) "
   ]
  },
  {
   "cell_type": "markdown",
   "metadata": {
    "id": "B97wKd5U2-Ar"
   },
   "source": [
    "####\n",
    "# Troisième Etape: Etudier les regressions simples\n",
    "####\n",
    "\n",
    "####\n",
    "# 3-1: Construction du modèle à partir des données d'apprentissage\n",
    "####\n"
   ]
  },
  {
   "cell_type": "code",
   "execution_count": 8,
   "metadata": {
    "id": "tWNCkoI-3CSU"
   },
   "outputs": [],
   "source": [
    "from sklearn.linear_model import LinearRegression\n",
    "\n",
    "regressor = LinearRegression()\n",
    "\n",
    "regressor.get_params()\n",
    "\n",
    "from sklearn.metrics import median_absolute_error,mean_squared_error, mean_absolute_error, r2_score\n",
    "\n"
   ]
  },
  {
   "cell_type": "code",
   "execution_count": 9,
   "metadata": {
    "id": "TlsvRzD83PLP"
   },
   "outputs": [
    {
     "name": "stdout",
     "output_type": "stream",
     "text": [
      "l'éqation de droite est y = 0.04025678079146286 x + 3.1855602489995554\n",
      "Median absolute error: 0.25\n",
      "Mean absolute error: 0.27\n",
      "Mean squared error: 0.09\n",
      "Coefficient of determination: 0.86\n"
     ]
    }
   ],
   "source": [
    "#  y = a*x1 +b \n",
    "regressor.fit(X[['Distance_Parcourue']], y)\n",
    "\n",
    "print(\"l'éqation de droite est y =\",regressor.coef_[0], \"x +\",regressor.intercept_)\n",
    "\n",
    "y_model = regressor.predict(X[['Distance_Parcourue']])\n",
    "# The median absolute error MedianAE for train\n",
    "print('Median absolute error: %.2f'\n",
    "      % median_absolute_error(y, y_model))\n",
    "# The mean absolute error MAE for train\n",
    "print('Mean absolute error: %.2f'\n",
    "      % mean_absolute_error(y, y_model))\n",
    "# The mean squared error MSE for train\n",
    "print('Mean squared error: %.2f'\n",
    "      % mean_squared_error(y, y_model))\n",
    "# The coefficient of determination: 1 is perfect prediction\n",
    "print('Coefficient of determination: %.2f'\n",
    "      % r2_score(y, y_model))"
   ]
  },
  {
   "cell_type": "code",
   "execution_count": null,
   "metadata": {
    "id": "0YEljj9W3PTH"
   },
   "outputs": [],
   "source": [
    "#y = a*x2 +b\n",
    "regressor.fit(X[['Nb_livraisons']], y)\n",
    "print(\"l'éqation de droite est y =\",regressor.coef_[0], \"x +\",regressor.intercept_)\n",
    "y_model = regressor.predict(X[['Nb_livraisons']])\n",
    "\n",
    "# The median absolute error MedianAE for train\n",
    "print('Median absolute error: %.2f'\n",
    "      % median_absolute_error(y, y_model))\n",
    "# The mean absolute error MAE for train\n",
    "print('Mean absolute error: %.2f'\n",
    "      % mean_absolute_error(y, y_model))\n",
    "# The mean squared error MSE for train\n",
    "print('Mean squared error: %.2f'\n",
    "      % mean_squared_error(y, y_model))\n",
    "# The coefficient of determination: 1 is perfect prediction\n",
    "print('Coefficient of determination: %.2f'\n",
    "      % r2_score(y, y_model))"
   ]
  },
  {
   "cell_type": "code",
   "execution_count": null,
   "metadata": {
    "id": "zlmlCvLE3PWr"
   },
   "outputs": [],
   "source": [
    "#y = a*x3 +b\n",
    "regressor.fit(X[['PrixCarburant']], y)\n",
    "print(\"l'éqation de droite est y =\",regressor.coef_[0], \"x +\",regressor.intercept_)\n",
    "y_model = regressor.predict(X[['PrixCarburant']])\n",
    "\n",
    "# The median absolute error MedianAE for train\n",
    "print('Median absolute error: %.2f'\n",
    "      % median_absolute_error(y, y_model))\n",
    "# The mean absolute error MAE for train\n",
    "print('Mean absolute error: %.2f'\n",
    "      % mean_absolute_error(y, y_model))\n",
    "# The mean squared error MSE for train\n",
    "print('Mean squared error: %.2f'\n",
    "      % mean_squared_error(y, y_model))\n",
    "# The coefficient of determination: 1 is perfect prediction\n",
    "print('Coefficient of determination: %.2f'\n",
    "      % r2_score(y, y_model))"
   ]
  },
  {
   "cell_type": "code",
   "execution_count": null,
   "metadata": {
    "id": "gWmxm9cc-Gne"
   },
   "outputs": [],
   "source": [
    "#y = a1*x1 + a2*x2 + a0\n",
    "regressor.fit(X[['Distance_Parcourue','Nb_livraisons']],y)\n",
    "print(\"l'éqation de droite est y =\",regressor.coef_[0], \"x1 +\",regressor.coef_[1], \"x2 +\",regressor.intercept_)\n",
    "y_predict = regressor.predict(X[['Distance_Parcourue','Nb_livraisons']])\n",
    "\n",
    "from math import sqrt\n",
    "\n",
    "from sklearn.metrics import median_absolute_error,mean_squared_error, mean_absolute_error, r2_score\n",
    "\n",
    "k = X.shape[1]\n",
    "n = len(X)\n",
    "\n",
    "RMSE = float(format(np.sqrt(mean_squared_error(y, y_predict)) , '.3f'))\n",
    "MSE = mean_squared_error(y, y_predict)\n",
    "MAE = mean_absolute_error(y, y_predict)\n",
    "r2 = r2_score(y, y_predict)\n",
    "adj_r2 = 1-(1-r2) * (n-1)/(n-k-1)\n",
    "MAPE = np.mean( np.abs( (y-y_predict) / y  )  )*100\n",
    "\n",
    "print('RMSE = ', RMSE, '\\nMSE =', MSE , '\\nMAE =', MAE, '\\nR2 =', r2, '\\nAdjusted R2 =', adj_r2, '\\nMAPE =', MAPE)"
   ]
  },
  {
   "cell_type": "code",
   "execution_count": null,
   "metadata": {
    "id": "Iwgd9C79_nHY"
   },
   "outputs": [],
   "source": [
    "#y = a1*x1 + a3*x3 + a0\n",
    "regressor.fit(X[['Distance_Parcourue','PrixCarburant']],y)\n",
    "print(\"l'éqation de droite est y =\",regressor.coef_[0], \"x1 +\",regressor.coef_[1], \"x2 +\",regressor.intercept_)\n",
    "y_predict = regressor.predict(X[['Distance_Parcourue','PrixCarburant']])\n",
    "\n",
    "from math import sqrt\n",
    "\n",
    "from sklearn.metrics import median_absolute_error,mean_squared_error, mean_absolute_error, r2_score\n",
    "\n",
    "k = X.shape[1]\n",
    "n = len(X)\n",
    "\n",
    "RMSE = float(format(np.sqrt(mean_squared_error(y, y_predict)) , '.3f'))\n",
    "MSE = mean_squared_error(y, y_predict)\n",
    "MAE = mean_absolute_error(y, y_predict)\n",
    "r2 = r2_score(y, y_predict)\n",
    "adj_r2 = 1-(1-r2) * (n-1)/(n-k-1)\n",
    "MAPE = np.mean( np.abs( (y-y_predict) / y  )  )*100\n",
    "\n",
    "print('RMSE = ', RMSE, '\\nMSE =', MSE , '\\nMAE =', MAE, '\\nR2 =', r2, '\\nAdjusted R2 =', adj_r2, '\\nMAPE =', MAPE)"
   ]
  },
  {
   "cell_type": "code",
   "execution_count": null,
   "metadata": {
    "id": "ilpBUW0W_4u7"
   },
   "outputs": [],
   "source": [
    "#y = a2*x2 + a3*x3 + a0\n",
    "regressor.fit(X[['Nb_livraisons','PrixCarburant']],y)\n",
    "print(\"l'éqation de droite est y =\",regressor.coef_[0], \"x1 +\",regressor.coef_[1], \"x2 +\",regressor.intercept_)\n",
    "y_predict = regressor.predict(X[['Nb_livraisons','PrixCarburant']])\n",
    "\n",
    "from math import sqrt\n",
    "\n",
    "from sklearn.metrics import median_absolute_error,mean_squared_error, mean_absolute_error, r2_score\n",
    "\n",
    "k = X.shape[1]\n",
    "n = len(X)\n",
    "\n",
    "RMSE = float(format(np.sqrt(mean_squared_error(y, y_predict)) , '.3f'))\n",
    "MSE = mean_squared_error(y, y_predict)\n",
    "MAE = mean_absolute_error(y, y_predict)\n",
    "r2 = r2_score(y, y_predict)\n",
    "adj_r2 = 1-(1-r2) * (n-1)/(n-k-1)\n",
    "MAPE = np.mean( np.abs( (y-y_predict) / y  )  )*100\n",
    "\n",
    "print('RMSE = ', RMSE, '\\nMSE =', MSE , '\\nMAE =', MAE, '\\nR2 =', r2, '\\nAdjusted R2 =', adj_r2, '\\nMAPE =', MAPE)"
   ]
  },
  {
   "cell_type": "code",
   "execution_count": null,
   "metadata": {
    "id": "HVYoWM3kAEeW"
   },
   "outputs": [],
   "source": [
    "#y = a1*x1 + a2*x2 + a3*x3 + a0\n",
    "regressor.fit(X[['Distance_Parcourue','Nb_livraisons','PrixCarburant']],y)\n",
    "print(\"l'éqation de droite est y =\",regressor.coef_[0], \"x1 +\",regressor.coef_[1], \"x2 +\",regressor.coef_[2], \"x3 +\",regressor.intercept_)\n",
    "y_predict = regressor.predict(X[['Distance_Parcourue','Nb_livraisons','PrixCarburant']])\n",
    "\n",
    "from math import sqrt\n",
    "\n",
    "from sklearn.metrics import median_absolute_error,mean_squared_error, mean_absolute_error, r2_score\n",
    "\n",
    "k = X.shape[1]\n",
    "n = len(X)\n",
    "\n",
    "RMSE = float(format(np.sqrt(mean_squared_error(y, y_predict)) , '.3f'))\n",
    "MSE = mean_squared_error(y, y_predict)\n",
    "MAE = mean_absolute_error(y, y_predict)\n",
    "r2 = r2_score(y, y_predict)\n",
    "adj_r2 = 1-(1-r2) * (n-1)/(n-k-1)\n",
    "MAPE = np.mean( np.abs( (y-y_predict) / y  )  )*100\n",
    "\n",
    "print('RMSE = ', RMSE, '\\nMSE =', MSE , '\\nMAE =', MAE, '\\nR2 =', r2, '\\nAdjusted R2 =', adj_r2, '\\nMAPE =', MAPE)"
   ]
  },
  {
   "cell_type": "markdown",
   "metadata": {
    "id": "uXIkWTfp3lMw"
   },
   "source": [
    "#y =  a1x1 + a0\n",
    "\n",
    "#y =  a2x2 + a0\n",
    "\n",
    "#y =  a3x3 + a0\n",
    "\n",
    "#y =  a1x1 + a2x2 +a0\n",
    "\n",
    "#y =  a1x1 + a3x3 +a0\n",
    "\n",
    "#y =  a2x2 + a3x3 +a0\n",
    "\n",
    "#y =  a1x1 + a2x2 +a3x3 + a0\n"
   ]
  },
  {
   "cell_type": "code",
   "execution_count": 32,
   "metadata": {
    "id": "tNgZLDh3AyKC"
   },
   "outputs": [],
   "source": [
    "from math import sqrt\n",
    "\n",
    "from sklearn.metrics import median_absolute_error,mean_squared_error, mean_absolute_error, r2_score"
   ]
  },
  {
   "cell_type": "code",
   "execution_count": null,
   "metadata": {
    "id": "vk0cCjL53mYF"
   },
   "outputs": [],
   "source": [
    "import statsmodels.formula.api as smf\n",
    "\n",
    "model1=smf.ols(formula='Duree_trajet~Distance_Parcourue',data=livraison).fit()\n",
    "\n",
    "print(model1.params)\n",
    "print(model1.pvalues)\n",
    "print(model1.rsquared)\n",
    "print(model1.summary())\n"
   ]
  },
  {
   "cell_type": "code",
   "execution_count": null,
   "metadata": {
    "id": "wU1bfvRvAi2O"
   },
   "outputs": [],
   "source": [
    "y_predict = model1.predict(livraison[['Distance_Parcourue']])\n",
    "\n",
    "k = X.shape[1]\n",
    "n = len(X)\n",
    "\n",
    "RMSE = float(format(np.sqrt(mean_squared_error(y, y_predict)) , '.3f'))\n",
    "MSE = mean_squared_error(y, y_predict)\n",
    "MAE = mean_absolute_error(y, y_predict)\n",
    "r2 = r2_score(y, y_predict)\n",
    "adj_r2 = 1-(1-r2) * (n-1)/(n-k-1)\n",
    "MAPE = np.mean( np.abs( (y-y_predict) / y  )  )*100\n",
    "\n",
    "print('RMSE = ', RMSE, '\\nMSE =', MSE , '\\nMAE =', MAE, '\\nR2 =', r2, '\\nAdjusted R2 =', adj_r2, '\\nMAPE =', MAPE)"
   ]
  },
  {
   "cell_type": "code",
   "execution_count": null,
   "metadata": {
    "id": "m-_eFXee3r4z"
   },
   "outputs": [],
   "source": [
    "model2=smf.ols(formula='Duree_trajet~Nb_livraisons',data=livraison).fit()\n",
    "\n",
    "print(model2.params)\n",
    "print(model2.pvalues)\n",
    "print(model2.rsquared)\n",
    "print(model2.summary())\n"
   ]
  },
  {
   "cell_type": "code",
   "execution_count": null,
   "metadata": {
    "id": "R87CZN4TAqm0"
   },
   "outputs": [],
   "source": [
    "y_predict = model2.predict(livraison[['Nb_livraisons']])\n",
    "\n",
    "k = X.shape[1]\n",
    "n = len(X)\n",
    "\n",
    "RMSE = float(format(np.sqrt(mean_squared_error(y, y_predict)) , '.3f'))\n",
    "MSE = mean_squared_error(y, y_predict)\n",
    "MAE = mean_absolute_error(y, y_predict)\n",
    "r2 = r2_score(y, y_predict)\n",
    "adj_r2 = 1-(1-r2) * (n-1)/(n-k-1)\n",
    "MAPE = np.mean( np.abs( (y-y_predict) / y  )  )*100\n",
    "\n",
    "print('RMSE = ', RMSE, '\\nMSE =', MSE , '\\nMAE =', MAE, '\\nR2 =', r2, '\\nAdjusted R2 =', adj_r2, '\\nMAPE =', MAPE)"
   ]
  },
  {
   "cell_type": "code",
   "execution_count": null,
   "metadata": {
    "id": "7OtpjWGH3udS"
   },
   "outputs": [],
   "source": [
    "model3=smf.ols(formula='Duree_trajet~PrixCarburant',data=livraison).fit()\n",
    "\n",
    "print(model3.params)\n",
    "print(model3.pvalues)\n",
    "print(model3.rsquared)\n",
    "print(model3.summary())"
   ]
  },
  {
   "cell_type": "code",
   "execution_count": null,
   "metadata": {
    "id": "UYsIOSOgBCqS"
   },
   "outputs": [],
   "source": [
    "y_predict = model3.predict(livraison[['PrixCarburant']])\n",
    "\n",
    "k = X.shape[1]\n",
    "n = len(X)\n",
    "\n",
    "RMSE = float(format(np.sqrt(mean_squared_error(y, y_predict)) , '.3f'))\n",
    "MSE = mean_squared_error(y, y_predict)\n",
    "MAE = mean_absolute_error(y, y_predict)\n",
    "r2 = r2_score(y, y_predict)\n",
    "adj_r2 = 1-(1-r2) * (n-1)/(n-k-1)\n",
    "MAPE = np.mean( np.abs( (y-y_predict) / y  )  )*100\n",
    "\n",
    "print('RMSE = ', RMSE, '\\nMSE =', MSE , '\\nMAE =', MAE, '\\nR2 =', r2, '\\nAdjusted R2 =', adj_r2, '\\nMAPE =', MAPE)"
   ]
  },
  {
   "cell_type": "code",
   "execution_count": null,
   "metadata": {
    "id": "ErdnzOI54_v-"
   },
   "outputs": [],
   "source": [
    "model4=smf.ols(formula='Duree_trajet~Distance_Parcourue+Nb_livraisons',data=livraison).fit()\n",
    "\n",
    "print(model4.params)\n",
    "print(model4.pvalues)\n",
    "print(model4.rsquared)\n",
    "print(model4.summary())"
   ]
  },
  {
   "cell_type": "code",
   "execution_count": null,
   "metadata": {
    "id": "PdIh-vb0BSvM"
   },
   "outputs": [],
   "source": [
    "y_predict = model4.predict(livraison[['Distance_Parcourue','Nb_livraisons']])\n",
    "\n",
    "k = X.shape[1]\n",
    "n = len(X)\n",
    "\n",
    "RMSE = float(format(np.sqrt(mean_squared_error(y, y_predict)) , '.3f'))\n",
    "MSE = mean_squared_error(y, y_predict)\n",
    "MAE = mean_absolute_error(y, y_predict)\n",
    "r2 = r2_score(y, y_predict)\n",
    "adj_r2 = 1-(1-r2) * (n-1)/(n-k-1)\n",
    "MAPE = np.mean( np.abs( (y-y_predict) / y  )  )*100\n",
    "\n",
    "print('RMSE = ', RMSE, '\\nMSE =', MSE , '\\nMAE =', MAE, '\\nR2 =', r2, '\\nAdjusted R2 =', adj_r2, '\\nMAPE =', MAPE)"
   ]
  },
  {
   "cell_type": "code",
   "execution_count": null,
   "metadata": {
    "id": "pnuSRjm75A4S"
   },
   "outputs": [],
   "source": [
    "model5=smf.ols(formula='Duree_trajet~Distance_Parcourue+PrixCarburant',data=livraison).fit()\n",
    "\n",
    "print(model5.params)\n",
    "print(model5.pvalues)\n",
    "print(model5.rsquared)\n",
    "print(model5.summary())"
   ]
  },
  {
   "cell_type": "code",
   "execution_count": null,
   "metadata": {
    "id": "FN4e4NMyBo3F"
   },
   "outputs": [],
   "source": [
    "y_predict = model5.predict(livraison[['Distance_Parcourue','PrixCarburant']])\n",
    "\n",
    "k = X.shape[1]\n",
    "n = len(X)\n",
    "\n",
    "RMSE = float(format(np.sqrt(mean_squared_error(y, y_predict)) , '.3f'))\n",
    "MSE = mean_squared_error(y, y_predict)\n",
    "MAE = mean_absolute_error(y, y_predict)\n",
    "r2 = r2_score(y, y_predict)\n",
    "adj_r2 = 1-(1-r2) * (n-1)/(n-k-1)\n",
    "MAPE = np.mean( np.abs( (y-y_predict) / y  )  )*100\n",
    "\n",
    "print('RMSE = ', RMSE, '\\nMSE =', MSE , '\\nMAE =', MAE, '\\nR2 =', r2, '\\nAdjusted R2 =', adj_r2, '\\nMAPE =', MAPE)"
   ]
  },
  {
   "cell_type": "code",
   "execution_count": null,
   "metadata": {
    "id": "Ilgqisgg5FJC"
   },
   "outputs": [],
   "source": [
    "model6=smf.ols(formula='Duree_trajet~Nb_livraisons+PrixCarburant',data=livraison).fit()\n",
    "\n",
    "print(model6.params)\n",
    "print(model6.pvalues)\n",
    "print(model6.rsquared)\n",
    "print(model6.summary())"
   ]
  },
  {
   "cell_type": "code",
   "execution_count": null,
   "metadata": {
    "id": "5O2eBcfAB212"
   },
   "outputs": [],
   "source": [
    "y_predict = model6.predict(livraison[['Nb_livraisons','PrixCarburant']])\n",
    "\n",
    "k = X.shape[1]\n",
    "n = len(X)\n",
    "\n",
    "RMSE = float(format(np.sqrt(mean_squared_error(y, y_predict)) , '.3f'))\n",
    "MSE = mean_squared_error(y, y_predict)\n",
    "MAE = mean_absolute_error(y, y_predict)\n",
    "r2 = r2_score(y, y_predict)\n",
    "adj_r2 = 1-(1-r2) * (n-1)/(n-k-1)\n",
    "MAPE = np.mean( np.abs( (y-y_predict) / y  )  )*100\n",
    "\n",
    "print('RMSE = ', RMSE, '\\nMSE =', MSE , '\\nMAE =', MAE, '\\nR2 =', r2, '\\nAdjusted R2 =', adj_r2, '\\nMAPE =', MAPE)"
   ]
  },
  {
   "cell_type": "code",
   "execution_count": null,
   "metadata": {
    "id": "ymbTZhHl5Hx_"
   },
   "outputs": [],
   "source": [
    "model7=smf.ols(formula='Duree_trajet~Distance_Parcourue+Nb_livraisons+PrixCarburant',data=livraison).fit()\n",
    "\n",
    "print(model7.params)\n",
    "print(model7.pvalues)\n",
    "print(model7.rsquared)\n",
    "print(model7.summary())"
   ]
  },
  {
   "cell_type": "code",
   "execution_count": null,
   "metadata": {
    "id": "CJAarvwO9-uS"
   },
   "outputs": [],
   "source": [
    "y_predict = model7.predict(livraison[['Distance_Parcourue','Nb_livraisons','PrixCarburant']])\n",
    "\n",
    "from math import sqrt\n",
    "\n",
    "from sklearn.metrics import median_absolute_error,mean_squared_error, mean_absolute_error, r2_score\n",
    "\n",
    "k = X.shape[1]\n",
    "n = len(X)\n",
    "\n",
    "RMSE = float(format(np.sqrt(mean_squared_error(y, y_predict)) , '.3f'))\n",
    "MSE = mean_squared_error(y, y_predict)\n",
    "MAE = mean_absolute_error(y, y_predict)\n",
    "r2 = r2_score(y, y_predict)\n",
    "adj_r2 = 1-(1-r2) * (n-1)/(n-k-1)\n",
    "MAPE = np.mean( np.abs( (y-y_predict) / y  )  )*100\n",
    "\n",
    "print('RMSE = ', RMSE, '\\nMSE =', MSE , '\\nMAE =', MAE, '\\nR2 =', r2, '\\nAdjusted R2 =', adj_r2, '\\nMAPE =', MAPE)"
   ]
  }
 ],
 "metadata": {
  "colab": {
   "provenance": []
  },
  "kernelspec": {
   "display_name": "Python 3 (ipykernel)",
   "language": "python",
   "name": "python3"
  },
  "language_info": {
   "codemirror_mode": {
    "name": "ipython",
    "version": 3
   },
   "file_extension": ".py",
   "mimetype": "text/x-python",
   "name": "python",
   "nbconvert_exporter": "python",
   "pygments_lexer": "ipython3",
   "version": "3.8.15"
  }
 },
 "nbformat": 4,
 "nbformat_minor": 1
}
